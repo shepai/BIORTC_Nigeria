{
 "cells": [
  {
   "cell_type": "code",
   "execution_count": 1,
   "id": "e22a685e",
   "metadata": {},
   "outputs": [],
   "source": [
    "import numpy as np\n",
    "import matplotlib.pyplot as plt"
   ]
  },
  {
   "cell_type": "code",
   "execution_count": 23,
   "id": "247b3224",
   "metadata": {},
   "outputs": [],
   "source": [
    "# create some data\n",
    "num_trials = 10000 # number of trials\n",
    "\n",
    "targets = np.random.uniform(-np.pi, np.pi, num_trials) # generate angles in a uniform manner"
   ]
  },
  {
   "cell_type": "markdown",
   "id": "702180bb",
   "metadata": {},
   "source": [
    "# Visualizing a single variable"
   ]
  },
  {
   "cell_type": "markdown",
   "id": "2601cdc3",
   "metadata": {},
   "source": [
    "### What does the distribution of angles look like?"
   ]
  },
  {
   "cell_type": "code",
   "execution_count": null,
   "id": "6eba8e7f",
   "metadata": {},
   "outputs": [],
   "source": []
  },
  {
   "cell_type": "code",
   "execution_count": null,
   "id": "53a1105b",
   "metadata": {},
   "outputs": [],
   "source": []
  },
  {
   "cell_type": "markdown",
   "id": "4b5a5957",
   "metadata": {},
   "source": [
    "### Try to change the distribution of angles and visualize"
   ]
  },
  {
   "cell_type": "code",
   "execution_count": 25,
   "id": "84b37a95",
   "metadata": {},
   "outputs": [],
   "source": [
    "# make the distribution of angles gaussian\n",
    "\n",
    "# create the same plot of the target distribution as you did before\n"
   ]
  },
  {
   "cell_type": "markdown",
   "id": "a4ec3e82",
   "metadata": {},
   "source": [
    "# What if we have more than one variable? How can we best visualize?"
   ]
  },
  {
   "cell_type": "code",
   "execution_count": 80,
   "id": "aef831f2",
   "metadata": {},
   "outputs": [],
   "source": [
    "noise = np.deg2rad(10)# try with 5 degree errors\n",
    "\n",
    "# add noise to the targets to generate responses\n",
    "responses = targets + np.random.normal(0, noise, num_trials)\n",
    "# convert the responses back onto the circle\n",
    "responses = (responses +np.pi)%(2*np.pi)-np.pi"
   ]
  },
  {
   "cell_type": "markdown",
   "id": "aa3c9a79",
   "metadata": {},
   "source": [
    "The simplest, most classic visualization of two variables is of course the line plot. Create a line plot of the two variables. Is it interpretable? Do you know how to better visualize this to get a better understanding of the data?"
   ]
  },
  {
   "cell_type": "markdown",
   "id": "eae5227a",
   "metadata": {},
   "source": [
    "### Line plot"
   ]
  },
  {
   "cell_type": "markdown",
   "id": "189473dd",
   "metadata": {},
   "source": [
    "Is this visualization useful?\n",
    "\n",
    "**Response:** "
   ]
  },
  {
   "cell_type": "markdown",
   "id": "85e03965",
   "metadata": {},
   "source": [
    "### Scatterplot"
   ]
  },
  {
   "cell_type": "markdown",
   "id": "93021fee",
   "metadata": {},
   "source": [
    "Maybe there is a better way to visualize the data? Try creating a scatter plot of the two variables."
   ]
  },
  {
   "cell_type": "code",
   "execution_count": null,
   "id": "2d70a18e",
   "metadata": {},
   "outputs": [],
   "source": []
  },
  {
   "cell_type": "markdown",
   "id": "963f6d82",
   "metadata": {},
   "source": [
    "This is a bit crowded though, can you make the dot size smaller? "
   ]
  },
  {
   "cell_type": "code",
   "execution_count": null,
   "id": "d3be12e6",
   "metadata": {},
   "outputs": [],
   "source": []
  },
  {
   "cell_type": "markdown",
   "id": "b287a10f",
   "metadata": {},
   "source": [
    "Is this better than the lineplot?\n",
    "\n",
    "**Response:**"
   ]
  },
  {
   "cell_type": "code",
   "execution_count": null,
   "id": "3dbe5dcc",
   "metadata": {},
   "outputs": [],
   "source": []
  },
  {
   "cell_type": "code",
   "execution_count": null,
   "id": "3d183fa0",
   "metadata": {},
   "outputs": [],
   "source": []
  },
  {
   "cell_type": "code",
   "execution_count": null,
   "id": "b835676e",
   "metadata": {},
   "outputs": [],
   "source": []
  }
 ],
 "metadata": {
  "kernelspec": {
   "display_name": "Python 3",
   "language": "python",
   "name": "python3"
  },
  "language_info": {
   "codemirror_mode": {
    "name": "ipython",
    "version": 3
   },
   "file_extension": ".py",
   "mimetype": "text/x-python",
   "name": "python",
   "nbconvert_exporter": "python",
   "pygments_lexer": "ipython3",
   "version": "3.6.13"
  }
 },
 "nbformat": 4,
 "nbformat_minor": 5
}
