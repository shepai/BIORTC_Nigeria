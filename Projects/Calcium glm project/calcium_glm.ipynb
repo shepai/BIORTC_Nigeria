{
 "cells": [
  {
   "cell_type": "code",
   "execution_count": null,
   "id": "331418a1",
   "metadata": {},
   "outputs": [],
   "source": [
    "import scipy.io\n",
    "import numpy as np\n",
    "import pandas as pd\n",
    "import statsmodels.api as sm\n",
    "import matplotlib.pyplot as plt"
   ]
  },
  {
   "cell_type": "markdown",
   "id": "611cbc23",
   "metadata": {},
   "source": [
    "\n"
   ]
  },
  {
   "cell_type": "code",
   "execution_count": null,
   "id": "995948b4",
   "metadata": {},
   "outputs": [],
   "source": [
    "\n",
    "\n",
    "# Load the single neuron file ===\n",
    "mat = scipy.io.loadmat('')\n",
    "\n",
    "# === Extract relevant variables ===\n",
    "dff = mat['dff'].flatten()              # response variable Y\n",
    "go = mat['go'].flatten()\n",
    "nogo = mat['nogo'].flatten()\n",
    "reward = mat['reward'].flatten()\n",
    "licks = mat['licks'].flatten()\n",
    "\n",
    "\n",
    "# Build design matrix X \n",
    "X = pd.DataFrame({\n",
    "    'Go': go,\n",
    "    'NoGo': nogo,\n",
    "    'Reward': reward,\n",
    "    'Lick': licks\n",
    "})\n",
    "X = sm.add_constant(X)  # adds intercept term\n",
    "\n",
    "# Fit the GLM \n",
    "model = sm.OLS(dff, X).fit()\n",
    "\n",
    "# Show summary \n",
    "print(model.summary())\n",
    "\n",
    "# Plot predicted vs actual\n",
    "predicted = model.predict(X)\n",
    "\n",
    "plt.figure(figsize=(12, 5))\n",
    "plt.plot(dff, label='Actual ΔF/F', alpha=0.6)\n",
    "plt.plot(predicted, label='Predicted ΔF/F (GLM)', alpha=0.8)\n",
    "plt.legend()\n",
    "plt.title('GLM Fit for One Neuron')\n",
    "plt.xlabel('Time (frames)')\n",
    "plt.ylabel('ΔF/F')\n",
    "plt.tight_layout()\n",
    "plt.show()\n"
   ]
  },
  {
   "cell_type": "code",
   "execution_count": null,
   "id": "75935537",
   "metadata": {},
   "outputs": [],
   "source": []
  }
 ],
 "metadata": {
  "kernelspec": {
   "display_name": "malawi",
   "language": "python",
   "name": "python3"
  },
  "language_info": {
   "name": "python",
   "version": "3.10.16"
  }
 },
 "nbformat": 4,
 "nbformat_minor": 5
}
