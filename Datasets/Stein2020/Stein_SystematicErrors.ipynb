{
 "cells": [
  {
   "cell_type": "markdown",
   "metadata": {},
   "source": [
    "# Serial biases as in [Stein et al. (2020)](https://doi.org/10.1038/s41467-020-18033-3)"
   ]
  },
  {
   "cell_type": "code",
   "execution_count": 6,
   "metadata": {
    "scrolled": false
   },
   "outputs": [
    {
     "name": "stdout",
     "output_type": "stream",
     "text": [
      "Collecting scikits.bootstrap\n",
      "  Downloading scikits.bootstrap-1.1.0-py2.py3-none-any.whl (14 kB)\n",
      "Requirement already satisfied: numpy in /home/melanie/anaconda3/envs/brian2/lib/python3.6/site-packages (from scikits.bootstrap) (1.19.2)\n",
      "Collecting pyerf\n",
      "  Downloading pyerf-1.0.1-py3-none-any.whl (11 kB)\n",
      "Requirement already satisfied: typing-extensions in /home/melanie/anaconda3/envs/brian2/lib/python3.6/site-packages (from scikits.bootstrap) (4.1.1)\n",
      "Installing collected packages: pyerf, scikits.bootstrap\n",
      "Successfully installed pyerf-1.0.1 scikits.bootstrap-1.1.0\n"
     ]
    }
   ],
   "source": [
    "!pip install scikits.bootstrap"
   ]
  },
  {
   "cell_type": "code",
   "execution_count": 1,
   "metadata": {},
   "outputs": [],
   "source": [
    "import pandas as pd\n",
    "import numpy as np\n",
    "import helpers as hf\n",
    "import statsmodels.formula.api as smf\n",
    "\n",
    "# serial bias parameters for sliding average\n",
    "window      = np.pi/3\n",
    "step        = np.pi/30"
   ]
  },
  {
   "cell_type": "markdown",
   "metadata": {},
   "source": [
    "# Load the data"
   ]
  },
  {
   "cell_type": "code",
   "execution_count": 2,
   "metadata": {},
   "outputs": [
    {
     "data": {
      "text/html": [
       "<div>\n",
       "<style scoped>\n",
       "    .dataframe tbody tr th:only-of-type {\n",
       "        vertical-align: middle;\n",
       "    }\n",
       "\n",
       "    .dataframe tbody tr th {\n",
       "        vertical-align: top;\n",
       "    }\n",
       "\n",
       "    .dataframe thead th {\n",
       "        text-align: right;\n",
       "    }\n",
       "</style>\n",
       "<table border=\"1\" class=\"dataframe\">\n",
       "  <thead>\n",
       "    <tr style=\"text-align: right;\">\n",
       "      <th></th>\n",
       "      <th>subject</th>\n",
       "      <th>group</th>\n",
       "      <th>session</th>\n",
       "      <th>trial</th>\n",
       "      <th>delay</th>\n",
       "      <th>target</th>\n",
       "      <th>response</th>\n",
       "      <th>serial</th>\n",
       "      <th>prevcurr</th>\n",
       "      <th>error</th>\n",
       "      <th>raderror</th>\n",
       "      <th>ITI</th>\n",
       "      <th>RT</th>\n",
       "      <th>ts_p</th>\n",
       "    </tr>\n",
       "  </thead>\n",
       "  <tbody>\n",
       "    <tr>\n",
       "      <th>0</th>\n",
       "      <td>C03</td>\n",
       "      <td>C</td>\n",
       "      <td>4</td>\n",
       "      <td>1</td>\n",
       "      <td>60</td>\n",
       "      <td>-1.274090</td>\n",
       "      <td>-1.036900</td>\n",
       "      <td>0.558505</td>\n",
       "      <td>1.832596</td>\n",
       "      <td>0.237190</td>\n",
       "      <td>0.23</td>\n",
       "      <td>3.652175</td>\n",
       "      <td>0.000078</td>\n",
       "      <td>1.527173e+09</td>\n",
       "    </tr>\n",
       "    <tr>\n",
       "      <th>1</th>\n",
       "      <td>C03</td>\n",
       "      <td>C</td>\n",
       "      <td>4</td>\n",
       "      <td>2</td>\n",
       "      <td>60</td>\n",
       "      <td>-1.378810</td>\n",
       "      <td>-1.420174</td>\n",
       "      <td>-1.274090</td>\n",
       "      <td>0.104720</td>\n",
       "      <td>-0.041364</td>\n",
       "      <td>-0.22</td>\n",
       "      <td>2.691533</td>\n",
       "      <td>0.000057</td>\n",
       "      <td>1.527173e+09</td>\n",
       "    </tr>\n",
       "    <tr>\n",
       "      <th>2</th>\n",
       "      <td>C03</td>\n",
       "      <td>C</td>\n",
       "      <td>4</td>\n",
       "      <td>3</td>\n",
       "      <td>60</td>\n",
       "      <td>0.680678</td>\n",
       "      <td>0.554142</td>\n",
       "      <td>-1.378810</td>\n",
       "      <td>-2.059489</td>\n",
       "      <td>-0.126536</td>\n",
       "      <td>0.04</td>\n",
       "      <td>2.542890</td>\n",
       "      <td>0.000048</td>\n",
       "      <td>1.527173e+09</td>\n",
       "    </tr>\n",
       "    <tr>\n",
       "      <th>3</th>\n",
       "      <td>C03</td>\n",
       "      <td>C</td>\n",
       "      <td>4</td>\n",
       "      <td>4</td>\n",
       "      <td>0</td>\n",
       "      <td>-2.234021</td>\n",
       "      <td>-2.325128</td>\n",
       "      <td>0.680678</td>\n",
       "      <td>2.914700</td>\n",
       "      <td>-0.091106</td>\n",
       "      <td>0.34</td>\n",
       "      <td>2.659168</td>\n",
       "      <td>0.000058</td>\n",
       "      <td>1.527173e+09</td>\n",
       "    </tr>\n",
       "    <tr>\n",
       "      <th>4</th>\n",
       "      <td>C03</td>\n",
       "      <td>C</td>\n",
       "      <td>4</td>\n",
       "      <td>5</td>\n",
       "      <td>60</td>\n",
       "      <td>0.157080</td>\n",
       "      <td>0.234572</td>\n",
       "      <td>-2.234021</td>\n",
       "      <td>-2.391101</td>\n",
       "      <td>0.077493</td>\n",
       "      <td>0.21</td>\n",
       "      <td>3.031198</td>\n",
       "      <td>0.000089</td>\n",
       "      <td>1.527173e+09</td>\n",
       "    </tr>\n",
       "  </tbody>\n",
       "</table>\n",
       "</div>"
      ],
      "text/plain": [
       "  subject group session  trial delay    target  response    serial  prevcurr  \\\n",
       "0     C03     C       4      1    60 -1.274090 -1.036900  0.558505  1.832596   \n",
       "1     C03     C       4      2    60 -1.378810 -1.420174 -1.274090  0.104720   \n",
       "2     C03     C       4      3    60  0.680678  0.554142 -1.378810 -2.059489   \n",
       "3     C03     C       4      4     0 -2.234021 -2.325128  0.680678  2.914700   \n",
       "4     C03     C       4      5    60  0.157080  0.234572 -2.234021 -2.391101   \n",
       "\n",
       "      error  raderror       ITI        RT          ts_p  \n",
       "0  0.237190      0.23  3.652175  0.000078  1.527173e+09  \n",
       "1 -0.041364     -0.22  2.691533  0.000057  1.527173e+09  \n",
       "2 -0.126536      0.04  2.542890  0.000048  1.527173e+09  \n",
       "3 -0.091106      0.34  2.659168  0.000058  1.527173e+09  \n",
       "4  0.077493      0.21  3.031198  0.000089  1.527173e+09  "
      ]
     },
     "execution_count": 2,
     "metadata": {},
     "output_type": "execute_result"
    }
   ],
   "source": [
    "dat = pd.read_pickle(\"rawdat_all.pkl\")\n",
    "\n",
    "# print the dataframe\n",
    "dat.head()"
   ]
  },
  {
   "cell_type": "markdown",
   "metadata": {},
   "source": [
    "### Compute the errors"
   ]
  },
  {
   "cell_type": "markdown",
   "metadata": {},
   "source": [
    "The errors are already computed in the dataframe. However, try and figure out how to compute the errors yourself using just target and response. \n",
    "\n",
    "**Tip:** Use the *circdist()* function you can find in the helper.py module that is already loaded."
   ]
  },
  {
   "cell_type": "code",
   "execution_count": null,
   "metadata": {},
   "outputs": [],
   "source": []
  },
  {
   "cell_type": "markdown",
   "metadata": {},
   "source": [
    "Great, now plot a histogram of the errors:"
   ]
  },
  {
   "cell_type": "code",
   "execution_count": null,
   "metadata": {},
   "outputs": [],
   "source": []
  },
  {
   "cell_type": "markdown",
   "metadata": {},
   "source": [
    "Can you split this for different delay lengths and subjects?"
   ]
  },
  {
   "cell_type": "code",
   "execution_count": null,
   "metadata": {},
   "outputs": [],
   "source": []
  },
  {
   "cell_type": "markdown",
   "metadata": {},
   "source": [
    "# Systematic errors"
   ]
  },
  {
   "cell_type": "markdown",
   "metadata": {},
   "source": [
    "Errors are not only dependent on the delay but also on where the target was presented. Check how different target locations change the amount of errors produced. You can first look at this with a scatterplot"
   ]
  },
  {
   "cell_type": "code",
   "execution_count": null,
   "metadata": {},
   "outputs": [],
   "source": []
  },
  {
   "cell_type": "markdown",
   "metadata": {},
   "source": [
    "## Modeling the data: Linear Regression"
   ]
  },
  {
   "cell_type": "code",
   "execution_count": null,
   "metadata": {},
   "outputs": [],
   "source": []
  }
 ],
 "metadata": {
  "kernelspec": {
   "display_name": "Python 3",
   "language": "python",
   "name": "python3"
  },
  "language_info": {
   "codemirror_mode": {
    "name": "ipython",
    "version": 3
   },
   "file_extension": ".py",
   "mimetype": "text/x-python",
   "name": "python",
   "nbconvert_exporter": "python",
   "pygments_lexer": "ipython3",
   "version": "3.6.13"
  }
 },
 "nbformat": 4,
 "nbformat_minor": 2
}
